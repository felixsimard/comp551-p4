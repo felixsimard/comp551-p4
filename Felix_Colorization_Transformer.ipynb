{
  "nbformat": 4,
  "nbformat_minor": 0,
  "metadata": {
    "colab": {
      "name": "Felix-Colorization-Transformer.ipynb",
      "provenance": [],
      "authorship_tag": "ABX9TyMDb9HVK9u4Ly2M4as7V80F",
      "include_colab_link": true
    },
    "kernelspec": {
      "name": "python3",
      "display_name": "Python 3"
    },
    "language_info": {
      "name": "python"
    },
    "accelerator": "GPU"
  },
  "cells": [
    {
      "cell_type": "markdown",
      "metadata": {
        "id": "view-in-github",
        "colab_type": "text"
      },
      "source": [
        "<a href=\"https://colab.research.google.com/github/felixsimard/comp551-p4/blob/main/Felix_Colorization_Transformer.ipynb\" target=\"_parent\"><img src=\"https://colab.research.google.com/assets/colab-badge.svg\" alt=\"Open In Colab\"/></a>"
      ]
    },
    {
      "cell_type": "markdown",
      "metadata": {
        "id": "2CTIsuVIMhuO"
      },
      "source": [
        "## COMP 551: Applied Machine Learning\n",
        "### **P4 - Reproducibility in ML**\n",
        "\n",
        "Charles Bourbeau (260868653) <br>\n",
        "Mathis Renier () <br>\n",
        "Felix Simard (260865674) <br>\n",
        "\n",
        "Dec 10th, 2021\n",
        "\n"
      ]
    },
    {
      "cell_type": "markdown",
      "metadata": {
        "id": "WyKt_5LgRZPy"
      },
      "source": [
        "### Reproducing notebook included in the reearch's README page.\n",
        "Paper: [here](https://paperswithcode.com/paper/colorization-transformer-1) <br>\n",
        "Repository: [here](hhttps://github.com/google-research/google-research/tree/master/coltran) <br>\n",
        "Notebook: [here](https://colab.research.google.com/drive/1c8UZL3CkczbIltDxjDfFbq9Y0RnMv93o?usp=sharing#scrollTo=TyhE_Yzpx958)"
      ]
    },
    {
      "cell_type": "markdown",
      "metadata": {
        "id": "-ecDgp4ISPf_"
      },
      "source": [
        "#### Setup"
      ]
    },
    {
      "cell_type": "code",
      "metadata": {
        "colab": {
          "base_uri": "https://localhost:8080/"
        },
        "id": "JcePNkEyMDaV",
        "outputId": "26812316-86ef-4cb5-e72e-4323e50aca94"
      },
      "source": [
        "#@title Clone repo and install dependencies\n",
        "%cd /content/\n",
        "!git clone --recurse-submodules https://github.com/google-research/google-research.git\n",
        "%cd google-research/coltran/\n",
        "!pip install -r requirements.txt"
      ],
      "execution_count": 1,
      "outputs": [
        {
          "output_type": "stream",
          "name": "stdout",
          "text": [
            "/content\n",
            "Cloning into 'google-research'...\n",
            "remote: Enumerating objects: 38641, done.\u001b[K\n",
            "remote: Counting objects: 100% (3329/3329), done.\u001b[K\n",
            "remote: Compressing objects: 100% (2006/2006), done.\u001b[K\n",
            "remote: Total 38641 (delta 1467), reused 2655 (delta 1273), pack-reused 35312\u001b[K\n",
            "Receiving objects: 100% (38641/38641), 305.22 MiB | 29.72 MiB/s, done.\n",
            "Resolving deltas: 100% (20604/20604), done.\n",
            "Checking out files: 100% (12830/12830), done.\n",
            "/content/google-research/coltran\n",
            "Requirement already satisfied: tensorflow>=2.5.0 in /usr/local/lib/python3.7/dist-packages (from -r requirements.txt (line 1)) (2.7.0)\n",
            "Requirement already satisfied: numpy in /usr/local/lib/python3.7/dist-packages (from -r requirements.txt (line 2)) (1.19.5)\n",
            "Collecting absl-py==0.10.0\n",
            "  Downloading absl_py-0.10.0-py3-none-any.whl (127 kB)\n",
            "\u001b[K     |████████████████████████████████| 127 kB 12.6 MB/s \n",
            "\u001b[?25hRequirement already satisfied: tensorflow_datasets in /usr/local/lib/python3.7/dist-packages (from -r requirements.txt (line 4)) (4.0.1)\n",
            "Collecting ml_collections\n",
            "  Downloading ml_collections-0.1.0-py3-none-any.whl (88 kB)\n",
            "\u001b[K     |████████████████████████████████| 88 kB 10.2 MB/s \n",
            "\u001b[?25hRequirement already satisfied: six in /usr/local/lib/python3.7/dist-packages (from absl-py==0.10.0->-r requirements.txt (line 3)) (1.15.0)\n",
            "Requirement already satisfied: tensorflow-io-gcs-filesystem>=0.21.0 in /usr/local/lib/python3.7/dist-packages (from tensorflow>=2.5.0->-r requirements.txt (line 1)) (0.22.0)\n",
            "Requirement already satisfied: wheel<1.0,>=0.32.0 in /usr/local/lib/python3.7/dist-packages (from tensorflow>=2.5.0->-r requirements.txt (line 1)) (0.37.0)\n",
            "Requirement already satisfied: tensorboard~=2.6 in /usr/local/lib/python3.7/dist-packages (from tensorflow>=2.5.0->-r requirements.txt (line 1)) (2.7.0)\n",
            "Requirement already satisfied: astunparse>=1.6.0 in /usr/local/lib/python3.7/dist-packages (from tensorflow>=2.5.0->-r requirements.txt (line 1)) (1.6.3)\n",
            "Requirement already satisfied: protobuf>=3.9.2 in /usr/local/lib/python3.7/dist-packages (from tensorflow>=2.5.0->-r requirements.txt (line 1)) (3.17.3)\n",
            "Requirement already satisfied: h5py>=2.9.0 in /usr/local/lib/python3.7/dist-packages (from tensorflow>=2.5.0->-r requirements.txt (line 1)) (3.1.0)\n",
            "Requirement already satisfied: keras-preprocessing>=1.1.1 in /usr/local/lib/python3.7/dist-packages (from tensorflow>=2.5.0->-r requirements.txt (line 1)) (1.1.2)\n",
            "Requirement already satisfied: termcolor>=1.1.0 in /usr/local/lib/python3.7/dist-packages (from tensorflow>=2.5.0->-r requirements.txt (line 1)) (1.1.0)\n",
            "Requirement already satisfied: gast<0.5.0,>=0.2.1 in /usr/local/lib/python3.7/dist-packages (from tensorflow>=2.5.0->-r requirements.txt (line 1)) (0.4.0)\n",
            "Requirement already satisfied: tensorflow-estimator<2.8,~=2.7.0rc0 in /usr/local/lib/python3.7/dist-packages (from tensorflow>=2.5.0->-r requirements.txt (line 1)) (2.7.0)\n",
            "Requirement already satisfied: libclang>=9.0.1 in /usr/local/lib/python3.7/dist-packages (from tensorflow>=2.5.0->-r requirements.txt (line 1)) (12.0.0)\n",
            "Requirement already satisfied: keras<2.8,>=2.7.0rc0 in /usr/local/lib/python3.7/dist-packages (from tensorflow>=2.5.0->-r requirements.txt (line 1)) (2.7.0)\n",
            "Requirement already satisfied: grpcio<2.0,>=1.24.3 in /usr/local/lib/python3.7/dist-packages (from tensorflow>=2.5.0->-r requirements.txt (line 1)) (1.42.0)\n",
            "Requirement already satisfied: flatbuffers<3.0,>=1.12 in /usr/local/lib/python3.7/dist-packages (from tensorflow>=2.5.0->-r requirements.txt (line 1)) (2.0)\n",
            "Requirement already satisfied: google-pasta>=0.1.1 in /usr/local/lib/python3.7/dist-packages (from tensorflow>=2.5.0->-r requirements.txt (line 1)) (0.2.0)\n",
            "Requirement already satisfied: typing-extensions>=3.6.6 in /usr/local/lib/python3.7/dist-packages (from tensorflow>=2.5.0->-r requirements.txt (line 1)) (3.10.0.2)\n",
            "Requirement already satisfied: opt-einsum>=2.3.2 in /usr/local/lib/python3.7/dist-packages (from tensorflow>=2.5.0->-r requirements.txt (line 1)) (3.3.0)\n",
            "Requirement already satisfied: wrapt>=1.11.0 in /usr/local/lib/python3.7/dist-packages (from tensorflow>=2.5.0->-r requirements.txt (line 1)) (1.13.3)\n",
            "Requirement already satisfied: cached-property in /usr/local/lib/python3.7/dist-packages (from h5py>=2.9.0->tensorflow>=2.5.0->-r requirements.txt (line 1)) (1.5.2)\n",
            "Requirement already satisfied: tensorboard-data-server<0.7.0,>=0.6.0 in /usr/local/lib/python3.7/dist-packages (from tensorboard~=2.6->tensorflow>=2.5.0->-r requirements.txt (line 1)) (0.6.1)\n",
            "Requirement already satisfied: google-auth-oauthlib<0.5,>=0.4.1 in /usr/local/lib/python3.7/dist-packages (from tensorboard~=2.6->tensorflow>=2.5.0->-r requirements.txt (line 1)) (0.4.6)\n",
            "Requirement already satisfied: requests<3,>=2.21.0 in /usr/local/lib/python3.7/dist-packages (from tensorboard~=2.6->tensorflow>=2.5.0->-r requirements.txt (line 1)) (2.23.0)\n",
            "Requirement already satisfied: google-auth<3,>=1.6.3 in /usr/local/lib/python3.7/dist-packages (from tensorboard~=2.6->tensorflow>=2.5.0->-r requirements.txt (line 1)) (1.35.0)\n",
            "Requirement already satisfied: werkzeug>=0.11.15 in /usr/local/lib/python3.7/dist-packages (from tensorboard~=2.6->tensorflow>=2.5.0->-r requirements.txt (line 1)) (1.0.1)\n",
            "Requirement already satisfied: tensorboard-plugin-wit>=1.6.0 in /usr/local/lib/python3.7/dist-packages (from tensorboard~=2.6->tensorflow>=2.5.0->-r requirements.txt (line 1)) (1.8.0)\n",
            "Requirement already satisfied: markdown>=2.6.8 in /usr/local/lib/python3.7/dist-packages (from tensorboard~=2.6->tensorflow>=2.5.0->-r requirements.txt (line 1)) (3.3.6)\n",
            "Requirement already satisfied: setuptools>=41.0.0 in /usr/local/lib/python3.7/dist-packages (from tensorboard~=2.6->tensorflow>=2.5.0->-r requirements.txt (line 1)) (57.4.0)\n",
            "Requirement already satisfied: cachetools<5.0,>=2.0.0 in /usr/local/lib/python3.7/dist-packages (from google-auth<3,>=1.6.3->tensorboard~=2.6->tensorflow>=2.5.0->-r requirements.txt (line 1)) (4.2.4)\n",
            "Requirement already satisfied: rsa<5,>=3.1.4 in /usr/local/lib/python3.7/dist-packages (from google-auth<3,>=1.6.3->tensorboard~=2.6->tensorflow>=2.5.0->-r requirements.txt (line 1)) (4.7.2)\n",
            "Requirement already satisfied: pyasn1-modules>=0.2.1 in /usr/local/lib/python3.7/dist-packages (from google-auth<3,>=1.6.3->tensorboard~=2.6->tensorflow>=2.5.0->-r requirements.txt (line 1)) (0.2.8)\n",
            "Requirement already satisfied: requests-oauthlib>=0.7.0 in /usr/local/lib/python3.7/dist-packages (from google-auth-oauthlib<0.5,>=0.4.1->tensorboard~=2.6->tensorflow>=2.5.0->-r requirements.txt (line 1)) (1.3.0)\n",
            "Requirement already satisfied: importlib-metadata>=4.4 in /usr/local/lib/python3.7/dist-packages (from markdown>=2.6.8->tensorboard~=2.6->tensorflow>=2.5.0->-r requirements.txt (line 1)) (4.8.2)\n",
            "Requirement already satisfied: zipp>=0.5 in /usr/local/lib/python3.7/dist-packages (from importlib-metadata>=4.4->markdown>=2.6.8->tensorboard~=2.6->tensorflow>=2.5.0->-r requirements.txt (line 1)) (3.6.0)\n",
            "Requirement already satisfied: pyasn1<0.5.0,>=0.4.6 in /usr/local/lib/python3.7/dist-packages (from pyasn1-modules>=0.2.1->google-auth<3,>=1.6.3->tensorboard~=2.6->tensorflow>=2.5.0->-r requirements.txt (line 1)) (0.4.8)\n",
            "Requirement already satisfied: urllib3!=1.25.0,!=1.25.1,<1.26,>=1.21.1 in /usr/local/lib/python3.7/dist-packages (from requests<3,>=2.21.0->tensorboard~=2.6->tensorflow>=2.5.0->-r requirements.txt (line 1)) (1.24.3)\n",
            "Requirement already satisfied: chardet<4,>=3.0.2 in /usr/local/lib/python3.7/dist-packages (from requests<3,>=2.21.0->tensorboard~=2.6->tensorflow>=2.5.0->-r requirements.txt (line 1)) (3.0.4)\n",
            "Requirement already satisfied: certifi>=2017.4.17 in /usr/local/lib/python3.7/dist-packages (from requests<3,>=2.21.0->tensorboard~=2.6->tensorflow>=2.5.0->-r requirements.txt (line 1)) (2021.10.8)\n",
            "Requirement already satisfied: idna<3,>=2.5 in /usr/local/lib/python3.7/dist-packages (from requests<3,>=2.21.0->tensorboard~=2.6->tensorflow>=2.5.0->-r requirements.txt (line 1)) (2.10)\n",
            "Requirement already satisfied: oauthlib>=3.0.0 in /usr/local/lib/python3.7/dist-packages (from requests-oauthlib>=0.7.0->google-auth-oauthlib<0.5,>=0.4.1->tensorboard~=2.6->tensorflow>=2.5.0->-r requirements.txt (line 1)) (3.1.1)\n",
            "Requirement already satisfied: importlib-resources in /usr/local/lib/python3.7/dist-packages (from tensorflow_datasets->-r requirements.txt (line 4)) (5.4.0)\n",
            "Requirement already satisfied: dm-tree in /usr/local/lib/python3.7/dist-packages (from tensorflow_datasets->-r requirements.txt (line 4)) (0.1.6)\n",
            "Requirement already satisfied: tensorflow-metadata in /usr/local/lib/python3.7/dist-packages (from tensorflow_datasets->-r requirements.txt (line 4)) (1.4.0)\n",
            "Requirement already satisfied: promise in /usr/local/lib/python3.7/dist-packages (from tensorflow_datasets->-r requirements.txt (line 4)) (2.3)\n",
            "Requirement already satisfied: dill in /usr/local/lib/python3.7/dist-packages (from tensorflow_datasets->-r requirements.txt (line 4)) (0.3.4)\n",
            "Requirement already satisfied: tqdm in /usr/local/lib/python3.7/dist-packages (from tensorflow_datasets->-r requirements.txt (line 4)) (4.62.3)\n",
            "Requirement already satisfied: future in /usr/local/lib/python3.7/dist-packages (from tensorflow_datasets->-r requirements.txt (line 4)) (0.16.0)\n",
            "Requirement already satisfied: attrs>=18.1.0 in /usr/local/lib/python3.7/dist-packages (from tensorflow_datasets->-r requirements.txt (line 4)) (21.2.0)\n",
            "Requirement already satisfied: contextlib2 in /usr/local/lib/python3.7/dist-packages (from ml_collections->-r requirements.txt (line 5)) (0.5.5)\n",
            "Requirement already satisfied: PyYAML in /usr/local/lib/python3.7/dist-packages (from ml_collections->-r requirements.txt (line 5)) (3.13)\n",
            "Requirement already satisfied: googleapis-common-protos<2,>=1.52.0 in /usr/local/lib/python3.7/dist-packages (from tensorflow-metadata->tensorflow_datasets->-r requirements.txt (line 4)) (1.53.0)\n",
            "Installing collected packages: absl-py, ml-collections\n",
            "  Attempting uninstall: absl-py\n",
            "    Found existing installation: absl-py 0.12.0\n",
            "    Uninstalling absl-py-0.12.0:\n",
            "      Successfully uninstalled absl-py-0.12.0\n",
            "Successfully installed absl-py-0.10.0 ml-collections-0.1.0\n"
          ]
        }
      ]
    },
    {
      "cell_type": "code",
      "metadata": {
        "colab": {
          "base_uri": "https://localhost:8080/"
        },
        "id": "kwQ7UF6DR2k3",
        "outputId": "e9a028ec-63fb-4dbe-fbd1-a52b4df7a0d9"
      },
      "source": [
        "#@title Download pre-trained model\n",
        "!wget https://storage.googleapis.com/gresearch/coltran/coltran.zip -O coltran.zip\n",
        "!unzip coltran.zip -d ./logdir"
      ],
      "execution_count": 2,
      "outputs": [
        {
          "output_type": "stream",
          "name": "stdout",
          "text": [
            "--2021-11-30 15:30:39--  https://storage.googleapis.com/gresearch/coltran/coltran.zip\n",
            "Resolving storage.googleapis.com (storage.googleapis.com)... 173.194.79.128, 108.177.119.128, 108.177.127.128, ...\n",
            "Connecting to storage.googleapis.com (storage.googleapis.com)|173.194.79.128|:443... connected.\n",
            "HTTP request sent, awaiting response... 200 OK\n",
            "Length: 784621697 (748M) [application/zip]\n",
            "Saving to: ‘coltran.zip’\n",
            "\n",
            "coltran.zip         100%[===================>] 748.27M  68.7MB/s    in 12s     \n",
            "\n",
            "2021-11-30 15:30:51 (64.9 MB/s) - ‘coltran.zip’ saved [784621697/784621697]\n",
            "\n",
            "Archive:  coltran.zip\n",
            "   creating: ./logdir/coltran/\n",
            "   creating: ./logdir/coltran/spatial_upsampler/\n",
            "   creating: ./logdir/coltran/colorizer/\n",
            "   creating: ./logdir/coltran/color_upsampler/\n",
            "  inflating: ./logdir/coltran/spatial_upsampler/checkpoint  \n",
            "  inflating: ./logdir/coltran/spatial_upsampler/model-121.data-00000-of-00001  \n",
            "  inflating: ./logdir/coltran/spatial_upsampler/model-121.index  \n",
            "  inflating: ./logdir/coltran/colorizer/checkpoint  \n",
            "  inflating: ./logdir/coltran/colorizer/model-302.index  \n",
            "  inflating: ./logdir/coltran/colorizer/model-302.data-00000-of-00001  \n",
            "  inflating: ./logdir/coltran/color_upsampler/model-449.data-00000-of-00001  \n",
            "  inflating: ./logdir/coltran/color_upsampler/checkpoint  \n",
            "  inflating: ./logdir/coltran/color_upsampler/model-449.index  \n"
          ]
        }
      ]
    },
    {
      "cell_type": "markdown",
      "metadata": {
        "id": "tnu_QMQcSSQo"
      },
      "source": [
        "#### Image Colorisation"
      ]
    },
    {
      "cell_type": "code",
      "metadata": {
        "colab": {
          "base_uri": "https://localhost:8080/"
        },
        "id": "PfoJEHDvSXCz",
        "outputId": "55ad1431-5615-4ca5-ecd5-ecd4b3d3c3ef"
      },
      "source": [
        "#@title Set environment variables\n",
        " \n",
        "import os\n",
        " \n",
        "os.environ[\"LOGDIR\"] = \"/content/google-research/coltran/logdir/coltran\"\n",
        "!mkdir -p /content/input/ /content/output/\n",
        "os.environ['IMG_DIR'] = \"/content/input\" \n",
        "os.environ['STORE_DIR'] = \"/content/output\"\n",
        " \n",
        "mode = \"recolorize\" #@param [\"recolorize\", \"colorize\"]\n",
        "os.environ['MODE'] = mode\n",
        "\n",
        "# (added by Felix)\n",
        "# For testing, download a simple grayscale image to see the colorization\n",
        "%cd /content/input/\n",
        "!wget https://raw.githubusercontent.com/felixsimard/comp551-p4/a131dbdf197ed5c09c52e3818887c8e7c6cef92f/images/fruits.jpeg?token=AE26HBR2PWAHOQKI5CVZA5LBV54MU -O fruits.jpeg\n",
        "# !wget https://raw.githubusercontent.com/felixsimard/comp551-p4/main/images/city.jpeg?token=AE26HBXKKX3V2JDUUW3MZG3BV54QK -O city.jpeg\n",
        "# !wget https://raw.githubusercontent.com/felixsimard/comp551-p4/main/images/football.jpeg?token=AE26HBSHIE2RXT4V45UFOHLBV54SE -O football.jpeg\n",
        "# !wget https://raw.githubusercontent.com/felixsimard/comp551-p4/main/images/tiger.jpeg?token=AE26HBXMFKWVJHOHXXC5BGLBV54TK -O tiger.jpeg\n"
      ],
      "execution_count": 3,
      "outputs": [
        {
          "output_type": "stream",
          "name": "stdout",
          "text": [
            "/content/input\n",
            "--2021-11-30 15:31:00--  https://raw.githubusercontent.com/felixsimard/comp551-p4/a131dbdf197ed5c09c52e3818887c8e7c6cef92f/images/fruits.jpeg?token=AE26HBR2PWAHOQKI5CVZA5LBV54MU\n",
            "Resolving raw.githubusercontent.com (raw.githubusercontent.com)... 185.199.108.133, 185.199.109.133, 185.199.110.133, ...\n",
            "Connecting to raw.githubusercontent.com (raw.githubusercontent.com)|185.199.108.133|:443... connected.\n",
            "HTTP request sent, awaiting response... 200 OK\n",
            "Length: 98964 (97K) [image/jpeg]\n",
            "Saving to: ‘fruits.jpeg’\n",
            "\n",
            "fruits.jpeg         100%[===================>]  96.64K  --.-KB/s    in 0.007s  \n",
            "\n",
            "2021-11-30 15:31:00 (13.7 MB/s) - ‘fruits.jpeg’ saved [98964/98964]\n",
            "\n"
          ]
        }
      ]
    },
    {
      "cell_type": "code",
      "metadata": {
        "colab": {
          "base_uri": "https://localhost:8080/"
        },
        "id": "K2OqGlt_SdVl",
        "outputId": "9674dfeb-eb90-41c0-91fe-f3f0617e10bd"
      },
      "source": [
        "#@title Run the colorizer to get a coarsely colorized image.\n",
        "%cd /content/google-research/\n",
        "!rm -rf $IMG_DIR/.ipynb_checkpoints/\n",
        "!python -m coltran.custom_colorize --config=coltran/configs/colorizer.py --logdir=$LOGDIR/colorizer --img_dir=$IMG_DIR --store_dir=$STORE_DIR --mode=$MODE"
      ],
      "execution_count": 4,
      "outputs": [
        {
          "output_type": "stream",
          "name": "stdout",
          "text": [
            "/content/google-research\n",
            "2021-11-30 15:31:06.670896: W tensorflow/core/common_runtime/gpu/gpu_bfc_allocator.cc:39] Overriding allow_growth setting because the TF_FORCE_GPU_ALLOW_GROWTH environment variable is set. Original config value was 0.\n",
            "WARNING:tensorflow:From /usr/local/lib/python3.7/dist-packages/tensorflow/python/training/moving_averages.py:552: Variable.initialized_value (from tensorflow.python.ops.variables) is deprecated and will be removed in a future version.\n",
            "Instructions for updating:\n",
            "Use Variable.read_value. Variables in 2.X are initialized automatically both in eager and graph (inside tf.defun) contexts.\n",
            "W1130 15:31:10.571767 139688814135168 deprecation.py:347] From /usr/local/lib/python3.7/dist-packages/tensorflow/python/training/moving_averages.py:552: Variable.initialized_value (from tensorflow.python.ops.variables) is deprecated and will be removed in a future version.\n",
            "Instructions for updating:\n",
            "Use Variable.read_value. Variables in 2.X are initialized automatically both in eager and graph (inside tf.defun) contexts.\n",
            "I1130 15:31:10.826175 139688814135168 train_utils.py:91] Built with exponential moving average.\n",
            "I1130 15:31:10.848198 139688814135168 train_utils.py:185] Restoring from /content/google-research/coltran/logdir/coltran/colorizer.\n",
            "I1130 15:31:11.838825 139688814135168 custom_colorize.py:207] Producing sample after 601000 training steps.\n",
            "I1130 15:31:11.839164 139688814135168 custom_colorize.py:210] 1\n",
            "I1130 15:33:34.160788 139688814135168 custom_colorize.py:232] ['fruits.jpeg']\n",
            "I1130 15:33:34.161317 139688814135168 custom_colorize.py:236] /content/output/stage1/fruits.jpeg\n",
            "I1130 15:33:34.161580 139688814135168 custom_colorize.py:238] (64, 64, 3)\n"
          ]
        }
      ]
    },
    {
      "cell_type": "code",
      "metadata": {
        "colab": {
          "base_uri": "https://localhost:8080/"
        },
        "id": "YHzPbENLSo4k",
        "outputId": "29f3df1d-1c0d-42ce-87b0-83e0177cad07"
      },
      "source": [
        "#@title Run the color upsampler to upsample the coarsely colored image.\n",
        "%cd /content/google-research\n",
        "!rm -rf $IMG_DIR/.ipynb_checkpoints/ $STORE_DIR/stage1/.ipynb_checkpoints\n",
        "!python -m coltran.custom_colorize --config=coltran/configs/color_upsampler.py --logdir=$LOGDIR/color_upsampler --img_dir=$IMG_DIR --store_dir=$STORE_DIR --gen_data_dir=$STORE_DIR/stage1 --mode=$MODE"
      ],
      "execution_count": 5,
      "outputs": [
        {
          "output_type": "stream",
          "name": "stdout",
          "text": [
            "/content/google-research\n",
            "2021-11-30 15:33:39.483971: W tensorflow/core/common_runtime/gpu/gpu_bfc_allocator.cc:39] Overriding allow_growth setting because the TF_FORCE_GPU_ALLOW_GROWTH environment variable is set. Original config value was 0.\n",
            "WARNING:tensorflow:From /usr/local/lib/python3.7/dist-packages/tensorflow/python/training/moving_averages.py:552: Variable.initialized_value (from tensorflow.python.ops.variables) is deprecated and will be removed in a future version.\n",
            "Instructions for updating:\n",
            "Use Variable.read_value. Variables in 2.X are initialized automatically both in eager and graph (inside tf.defun) contexts.\n",
            "W1130 15:33:40.884764 140593629874048 deprecation.py:347] From /usr/local/lib/python3.7/dist-packages/tensorflow/python/training/moving_averages.py:552: Variable.initialized_value (from tensorflow.python.ops.variables) is deprecated and will be removed in a future version.\n",
            "Instructions for updating:\n",
            "Use Variable.read_value. Variables in 2.X are initialized automatically both in eager and graph (inside tf.defun) contexts.\n",
            "I1130 15:33:41.001607 140593629874048 train_utils.py:91] Built with exponential moving average.\n",
            "I1130 15:33:41.008986 140593629874048 train_utils.py:185] Restoring from /content/google-research/coltran/logdir/coltran/color_upsampler.\n",
            "I1130 15:33:41.410103 140593629874048 custom_colorize.py:207] Producing sample after 450000 training steps.\n",
            "I1130 15:33:41.410453 140593629874048 custom_colorize.py:210] 1\n",
            "I1130 15:33:41.636359 140593629874048 custom_colorize.py:232] ['fruits.jpeg']\n",
            "I1130 15:33:41.637232 140593629874048 custom_colorize.py:236] /content/output/stage2/fruits.jpeg\n",
            "I1130 15:33:41.637789 140593629874048 custom_colorize.py:238] (64, 64, 3)\n"
          ]
        }
      ]
    },
    {
      "cell_type": "code",
      "metadata": {
        "colab": {
          "base_uri": "https://localhost:8080/"
        },
        "id": "mHnSVqiyTLlC",
        "outputId": "87a7d362-24c6-48db-ea89-0ffa08cc79e1"
      },
      "source": [
        "#@title Run the spatial upsampler to super-resolve into the final output.\n",
        "%cd /content/google-research/\n",
        "!rm -rf $IMG_DIR/.ipynb_checkpoints/ $STORE_DIR/stage2/.ipynb_checkpoints\n",
        "!python -m coltran.custom_colorize --config=coltran/configs/spatial_upsampler.py --logdir=$LOGDIR/spatial_upsampler --img_dir=$IMG_DIR --store_dir=$STORE_DIR --gen_data_dir=$STORE_DIR/stage2 --mode=$MODE"
      ],
      "execution_count": 6,
      "outputs": [
        {
          "output_type": "stream",
          "name": "stdout",
          "text": [
            "/content/google-research\n",
            "2021-11-30 15:33:46.411045: W tensorflow/core/common_runtime/gpu/gpu_bfc_allocator.cc:39] Overriding allow_growth setting because the TF_FORCE_GPU_ALLOW_GROWTH environment variable is set. Original config value was 0.\n",
            "WARNING:tensorflow:From /usr/local/lib/python3.7/dist-packages/tensorflow/python/training/moving_averages.py:552: Variable.initialized_value (from tensorflow.python.ops.variables) is deprecated and will be removed in a future version.\n",
            "Instructions for updating:\n",
            "Use Variable.read_value. Variables in 2.X are initialized automatically both in eager and graph (inside tf.defun) contexts.\n",
            "W1130 15:33:47.836509 139673042233216 deprecation.py:347] From /usr/local/lib/python3.7/dist-packages/tensorflow/python/training/moving_averages.py:552: Variable.initialized_value (from tensorflow.python.ops.variables) is deprecated and will be removed in a future version.\n",
            "Instructions for updating:\n",
            "Use Variable.read_value. Variables in 2.X are initialized automatically both in eager and graph (inside tf.defun) contexts.\n",
            "I1130 15:33:48.007695 139673042233216 train_utils.py:91] Built with exponential moving average.\n",
            "I1130 15:33:48.013263 139673042233216 train_utils.py:185] Restoring from /content/google-research/coltran/logdir/coltran/spatial_upsampler.\n",
            "I1130 15:33:48.318131 139673042233216 custom_colorize.py:207] Producing sample after 300000 training steps.\n",
            "I1130 15:33:48.318506 139673042233216 custom_colorize.py:210] 1\n",
            "I1130 15:33:49.535151 139673042233216 custom_colorize.py:232] ['fruits.jpeg']\n",
            "I1130 15:33:49.535866 139673042233216 custom_colorize.py:236] /content/output/final/fruits.jpeg\n",
            "I1130 15:33:49.536412 139673042233216 custom_colorize.py:238] (256, 256, 3)\n"
          ]
        }
      ]
    },
    {
      "cell_type": "code",
      "metadata": {
        "id": "JoPw2pA_THNH"
      },
      "source": [
        ""
      ],
      "execution_count": 6,
      "outputs": []
    },
    {
      "cell_type": "markdown",
      "metadata": {
        "id": "4zp9hoHFTc1p"
      },
      "source": [
        "#### Reference\n",
        "\n",
        "Title: Colorization Transformer <br>\n",
        "Authors: Manoj Kumar and Dirk Weissenborn and Nal Kalchbrenner <br>\n",
        "Book Title: International Conference on Learning Representations <br>\n",
        "Year: 2021\n",
        "URL: [https://openreview.net/forum?id=5NA1PinlGFu](https://openreview.net/forum?id=5NA1PinlGFu)\n"
      ]
    },
    {
      "cell_type": "code",
      "metadata": {
        "id": "BFXDL6c0VS5W"
      },
      "source": [
        ""
      ],
      "execution_count": 6,
      "outputs": []
    }
  ]
}